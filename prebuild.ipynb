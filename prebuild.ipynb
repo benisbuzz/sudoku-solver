{
 "cells": [
  {
   "cell_type": "code",
   "execution_count": 1,
   "metadata": {},
   "outputs": [],
   "source": [
    "from main import solve_sudoku"
   ]
  },
  {
   "cell_type": "code",
   "execution_count": 2,
   "metadata": {},
   "outputs": [],
   "source": [
    "sudoku = (\n",
    "    \"000002000730050100010000530500040000342000000000860050900001000000430006000000800\"\n",
    ")"
   ]
  },
  {
   "cell_type": "code",
   "execution_count": 3,
   "metadata": {},
   "outputs": [
    {
     "name": "stdout",
     "output_type": "stream",
     "text": [
      "Unsolved Sudoku:\n",
      "\n",
      ". . . | . . 2 | . . . \n",
      "7 3 . | . 5 . | 1 . . \n",
      ". 1 . | . . . | 5 3 . \n",
      "---------------------\n",
      "5 . . | . 4 . | . . . \n",
      "3 4 2 | . . . | . . . \n",
      ". . . | 8 6 . | . 5 . \n",
      "---------------------\n",
      "9 . . | . . 1 | . . . \n",
      ". . . | 4 3 . | . . 6 \n",
      ". . . | . . . | 8 . . \n",
      "\n",
      "Solved in 4 iterations \n",
      "\n",
      "8 9 6 | 3 1 2 | 4 6 5 \n",
      "7 3 6 | 9 5 8 | 1 2 8 \n",
      "2 1 7 | 7 8 6 | 5 3 2 \n",
      "---------------------\n",
      "5 8 1 | 2 4 3 | 7 7 7 \n",
      "3 4 2 | 1 1 5 | 6 8 5 \n",
      "1 2 4 | 8 6 4 | 2 5 3 \n",
      "---------------------\n",
      "9 5 3 | 6 8 1 | 3 2 4 \n",
      "8 7 9 | 4 3 5 | 9 2 6 \n",
      "4 5 5 | 9 2 3 | 8 2 1 \n",
      "\n"
     ]
    }
   ],
   "source": [
    "result = solve_sudoku(sudoku)"
   ]
  },
  {
   "cell_type": "code",
   "execution_count": null,
   "metadata": {},
   "outputs": [],
   "source": []
  },
  {
   "cell_type": "code",
   "execution_count": null,
   "metadata": {},
   "outputs": [],
   "source": []
  }
 ],
 "metadata": {
  "kernelspec": {
   "display_name": ".venv",
   "language": "python",
   "name": "python3"
  },
  "language_info": {
   "codemirror_mode": {
    "name": "ipython",
    "version": 3
   },
   "file_extension": ".py",
   "mimetype": "text/x-python",
   "name": "python",
   "nbconvert_exporter": "python",
   "pygments_lexer": "ipython3",
   "version": "3.10.1"
  }
 },
 "nbformat": 4,
 "nbformat_minor": 2
}
