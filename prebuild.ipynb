{
 "cells": [
  {
   "cell_type": "code",
   "execution_count": 1,
   "metadata": {},
   "outputs": [],
   "source": [
    "from copy import deepcopy\n",
    "import requests"
   ]
  },
  {
   "cell_type": "code",
   "execution_count": 2,
   "metadata": {},
   "outputs": [
    {
     "data": {
      "text/plain": [
       "'\\nstep 1: set all values we do not have to range(1,10)\\nstep 2: pop values already in the sector from lists\\nstep 3: use rows and cols to further eliminate options\\nstep 4: for all lists that have a single element, add them to board\\nstep 5: if in each sector / row / col an element only shows up in one of the notes, add it as an answer\\nstep 6: repeat 2-5 until complete\\nstep 7: rejoice\\n'"
      ]
     },
     "execution_count": 2,
     "metadata": {},
     "output_type": "execute_result"
    }
   ],
   "source": [
    "\"\"\"\n",
    "step 1: set all values we do not have to range(1,10)\n",
    "step 2: pop values already in the sector from lists\n",
    "step 3: use rows and cols to further eliminate options\n",
    "step 4: for all lists that have a single element, add them to board\n",
    "step 5: if in each sector / row / col an element only shows up in one of the notes, add it as an answer\n",
    "step 6: repeat 2-5 until complete\n",
    "step 7: rejoice\n",
    "\"\"\""
   ]
  },
  {
   "cell_type": "code",
   "execution_count": 66,
   "metadata": {},
   "outputs": [],
   "source": [
    "sudoku_string = \"034009001602100000080004000940506130003000760000400000000200010090000407025700003\""
   ]
  },
  {
   "cell_type": "code",
   "execution_count": 67,
   "metadata": {},
   "outputs": [],
   "source": [
    "def display_grid(matrix):\n",
    "    output = \"\"\n",
    "    for i, row in enumerate(matrix):\n",
    "        if i % 3 == 0 and i != 0:\n",
    "            output += \"-\" * 21 + \"\\n\"\n",
    "        for j, val in enumerate(row):\n",
    "            if j % 3 == 0 and j != 0:\n",
    "                output += \"| \" \n",
    "            output += (str(val) if isinstance(val, int) else \".\") + \" \"\n",
    "        output += \"\\n\"\n",
    "    return output\n"
   ]
  },
  {
   "cell_type": "markdown",
   "metadata": {},
   "source": [
    "### Step 1"
   ]
  },
  {
   "cell_type": "code",
   "execution_count": 68,
   "metadata": {},
   "outputs": [],
   "source": [
    "long_list = [int(digit) for digit in sudoku_string]\n",
    "sudoku = [long_list[i:i+9] for i in range(0, len(long_list), 9)]\n",
    "for row in sudoku:\n",
    "    for i in range(len(row)):\n",
    "        if row[i] == 0:\n",
    "            row[i] = list(range(1,10))"
   ]
  },
  {
   "cell_type": "markdown",
   "metadata": {},
   "source": [
    "### Step 2"
   ]
  },
  {
   "cell_type": "code",
   "execution_count": 69,
   "metadata": {},
   "outputs": [],
   "source": [
    "def get_boxes(matrix: list[list]) -> list[list[list]]:\n",
    "    boxes = []\n",
    "    for i in range(0, 9, 3):\n",
    "        for j in range(0, 9, 3):\n",
    "            box = [matrix[x][j:j+3] for x in range(i, i+3)]\n",
    "            boxes.append(box)\n",
    "    return boxes"
   ]
  },
  {
   "cell_type": "code",
   "execution_count": 70,
   "metadata": {},
   "outputs": [],
   "source": [
    "def undo_boxes(boxes: list[list[list]]) -> list[list]:\n",
    "    grid = [[0]*9 for _ in range(9)]\n",
    "    for index, box in enumerate(boxes):\n",
    "        start_row = (index // 3) * 3 \n",
    "        start_col = (index % 3) * 3\n",
    "        for i in range(3):\n",
    "            for j in range(3):\n",
    "                grid[start_row + i][start_col + j] = box[i][j]\n",
    "    return grid"
   ]
  },
  {
   "cell_type": "code",
   "execution_count": 71,
   "metadata": {},
   "outputs": [],
   "source": [
    "def pop_sector(matrix: list[list]) -> list[list]:\n",
    "    boxes = get_boxes(matrix)\n",
    "    for sector in boxes:\n",
    "        sector_values = [i for sublist in sector for i in sublist if type(i) == int]\n",
    "        for row in sector:\n",
    "            for i in range(len(row)):\n",
    "                if type(row[i]) == list:\n",
    "                    row[i] = list(set(row[i]).symmetric_difference(sector_values))\n",
    "    return undo_boxes(boxes)\n"
   ]
  },
  {
   "cell_type": "markdown",
   "metadata": {},
   "source": [
    "### Step 3"
   ]
  },
  {
   "cell_type": "code",
   "execution_count": 72,
   "metadata": {},
   "outputs": [],
   "source": [
    "def transpose(matrix: list[list]) -> list[list]:\n",
    "    return [list(col) for col in zip(*matrix)]"
   ]
  },
  {
   "cell_type": "code",
   "execution_count": 73,
   "metadata": {},
   "outputs": [],
   "source": [
    "def pop_rows_cols(matrix: list[list]) -> list[list]:\n",
    "    matrix_copy = deepcopy(matrix)\n",
    "    for row_num in range(9):\n",
    "        for col_num in range(9):\n",
    "            if type(matrix[row_num][col_num]) == int:\n",
    "                continue\n",
    "            row_values = [i for i in matrix_copy[row_num] if type(i) == int]\n",
    "            col_values = [i for i in transpose(matrix_copy)[col_num] if type(i) == int]\n",
    "            impossible_nums = list(set(col_values+row_values))\n",
    "            matrix_copy[row_num][col_num] = [ele for ele in matrix_copy[row_num][col_num] if ele not in impossible_nums]\n",
    "    return matrix_copy\n",
    "            "
   ]
  },
  {
   "cell_type": "markdown",
   "metadata": {},
   "source": [
    "### Step 4"
   ]
  },
  {
   "cell_type": "code",
   "execution_count": 74,
   "metadata": {},
   "outputs": [],
   "source": [
    "def extract_single_lists(matrix: list[list]) -> list[list]:\n",
    "    matrix_copy = deepcopy(matrix)\n",
    "    for row in matrix_copy:\n",
    "        for i in range(len(row)):\n",
    "            if type(row[i]) == list and len(row[i]) == 1:\n",
    "                row[i] = row[i][0]\n",
    "    return matrix_copy"
   ]
  },
  {
   "cell_type": "markdown",
   "metadata": {},
   "source": [
    "### Step 5"
   ]
  },
  {
   "cell_type": "code",
   "execution_count": 75,
   "metadata": {},
   "outputs": [],
   "source": [
    "def fill_unique_sector_notes(matrix: list[list]) -> list[list]:\n",
    "    def get_values_to_fill(sector):\n",
    "        result = []\n",
    "        for sublist in sector:\n",
    "            for item in sublist:\n",
    "                if isinstance(item, list):\n",
    "                    result.extend(item)\n",
    "        return [i for i in result if result.count(i) == 1]\n",
    "    boxes = get_boxes(matrix)\n",
    "    for sector in boxes:\n",
    "        values_to_fill = get_values_to_fill(sector)\n",
    "        for value in values_to_fill:\n",
    "            for row in sector:\n",
    "                for i in range(len(row)):\n",
    "                    if type(row[i]) == list and value in row[i]:\n",
    "                        row[i] = value\n",
    "    return undo_boxes(boxes)"
   ]
  },
  {
   "cell_type": "code",
   "execution_count": 76,
   "metadata": {},
   "outputs": [],
   "source": [
    "def fill_unique_line_notes(matrix: list[list], transpose_it: bool) -> list[list]:\n",
    "    matrix_copy = deepcopy(matrix)\n",
    "    if transpose_it:\n",
    "        matrix_copy = transpose(matrix_copy)\n",
    "    for line in matrix_copy:\n",
    "        notes = []\n",
    "        for item in line:\n",
    "            if isinstance(item, list):\n",
    "                notes.extend(item)\n",
    "        values_to_fill = [note for note in notes if notes.count(note) == 1]\n",
    "        for value in values_to_fill:\n",
    "            for i in range(len(line)):\n",
    "                if type(line[i]) == list and value in line[i]:\n",
    "                    line[i] = value\n",
    "    if transpose_it:\n",
    "        return transpose(matrix_copy)\n",
    "    return matrix_copy"
   ]
  },
  {
   "cell_type": "markdown",
   "metadata": {},
   "source": [
    "### Step 6"
   ]
  },
  {
   "cell_type": "code",
   "execution_count": 77,
   "metadata": {},
   "outputs": [],
   "source": [
    "def solve_sudoku(matrix: list[list]):\n",
    "    counter = 1\n",
    "    result = deepcopy(matrix)\n",
    "    while counter < 100:\n",
    "        result = \\\n",
    "        fill_unique_line_notes(\n",
    "            fill_unique_line_notes(\n",
    "                fill_unique_sector_notes(\n",
    "                    extract_single_lists(\n",
    "                        pop_rows_cols(\n",
    "                            pop_sector(\n",
    "                                result\n",
    "                            )\n",
    "                        )\n",
    "                    )\n",
    "                )\n",
    "            , False)\n",
    "        , True)\n",
    "        all_solved = True\n",
    "        for row in result:\n",
    "            for cell in row:\n",
    "                if not isinstance(cell, int):\n",
    "                    all_solved = False\n",
    "                    break\n",
    "            if not all_solved:\n",
    "                break\n",
    "        if all_solved:\n",
    "            print(f\"solved in {counter} iterations \\n\\n\")\n",
    "            print(display_grid(result))\n",
    "            return result\n",
    "        counter += 1  \n",
    "    return result\n"
   ]
  },
  {
   "cell_type": "code",
   "execution_count": 80,
   "metadata": {},
   "outputs": [
    {
     "name": "stdout",
     "output_type": "stream",
     "text": [
      ". 3 4 | . . 9 | . . 1 \n",
      "6 . 2 | 1 . . | . . . \n",
      ". 8 . | . . 4 | . . . \n",
      "---------------------\n",
      "9 4 . | 5 . 6 | 1 3 . \n",
      ". . 3 | . . . | 7 6 . \n",
      ". . . | 4 . . | . . . \n",
      "---------------------\n",
      ". . . | 2 . . | . 1 . \n",
      ". 9 . | . . . | 4 . 7 \n",
      ". 2 5 | 7 . . | . . 3 \n",
      "\n"
     ]
    }
   ],
   "source": [
    "print(display_grid(sudoku))"
   ]
  },
  {
   "cell_type": "code",
   "execution_count": 81,
   "metadata": {},
   "outputs": [
    {
     "name": "stdout",
     "output_type": "stream",
     "text": [
      "solved in 3 iterations \n",
      "\n",
      "\n",
      "2 3 4 | 6 7 9 | 6 5 1 \n",
      "6 5 2 | 1 9 3 | 9 4 4 \n",
      "1 8 9 | 6 2 4 | 3 5 2 \n",
      "---------------------\n",
      "9 4 7 | 5 7 6 | 1 3 2 \n",
      "2 5 3 | 9 1 2 | 7 6 4 \n",
      "3 5 1 | 4 6 3 | 3 7 9 \n",
      "---------------------\n",
      "7 6 6 | 2 4 7 | 3 1 9 \n",
      "8 9 1 | 6 3 5 | 4 2 7 \n",
      "4 2 5 | 7 4 1 | 9 9 3 \n",
      "\n"
     ]
    }
   ],
   "source": [
    "result = solve_sudoku(sudoku)"
   ]
  }
 ],
 "metadata": {
  "kernelspec": {
   "display_name": ".venv",
   "language": "python",
   "name": "python3"
  },
  "language_info": {
   "codemirror_mode": {
    "name": "ipython",
    "version": 3
   },
   "file_extension": ".py",
   "mimetype": "text/x-python",
   "name": "python",
   "nbconvert_exporter": "python",
   "pygments_lexer": "ipython3",
   "version": "3.10.1"
  }
 },
 "nbformat": 4,
 "nbformat_minor": 2
}
